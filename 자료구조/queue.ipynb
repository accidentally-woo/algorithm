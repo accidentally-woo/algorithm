{
 "cells": [
  {
   "cell_type": "markdown",
   "source": [
    "## 큐 (Queue)\n",
    "\n",
    "### 1. 큐 구조\n",
    "- 가장 먼저 넣은 데이터를 가장 먼저 꺼낼 수 있는 구조\n",
    "    - queue의 의미가 \"대기줄\"이다. 새치기 금지.\n",
    "    - FIFO(First-in, First-Out), LILO(Last-in, Last-out)\n",
    "    ![nn](https://www.fun-coding.org/00_Images/queue.png)\n",
    "\n",
    "### 2. 알아들을 용어\n",
    "- Enqueue : 큐에 데이터를 넣는다.\n",
    "- Dequeue : 큐에 데이터를 꺼낸다."
   ],
   "metadata": {
    "collapsed": false
   }
  },
  {
   "cell_type": "markdown",
   "source": [
    "### Python에서 제공하는 queue 라이브러리 활용\n",
    "기본 queue (First-In, First-Out)"
   ],
   "metadata": {
    "collapsed": false
   }
  },
  {
   "cell_type": "code",
   "execution_count": null,
   "outputs": [],
   "source": [
    "import queue\n",
    "data_queue = queue.Queue()\n",
    "data_queue.put(\"First\") # Enqueue\n",
    "data_queue.put(\"Second\")\n",
    "data_queue.qsize()"
   ],
   "metadata": {
    "collapsed": false
   }
  },
  {
   "cell_type": "code",
   "execution_count": 2,
   "outputs": [
    {
     "data": {
      "text/plain": "'First'"
     },
     "execution_count": 2,
     "metadata": {},
     "output_type": "execute_result"
    }
   ],
   "source": [
    "data_queue.get() # Dequeue"
   ],
   "metadata": {
    "collapsed": false
   }
  },
  {
   "cell_type": "code",
   "execution_count": 3,
   "outputs": [
    {
     "data": {
      "text/plain": "'Second'"
     },
     "execution_count": 3,
     "metadata": {},
     "output_type": "execute_result"
    }
   ],
   "source": [
    "data_queue.get()"
   ],
   "metadata": {
    "collapsed": false
   }
  },
  {
   "cell_type": "markdown",
   "source": [
    "### 활용 LIFO (List-In, First-Out)"
   ],
   "metadata": {
    "collapsed": false
   }
  },
  {
   "cell_type": "code",
   "execution_count": null,
   "outputs": [],
   "source": [
    "data_lifo = queue.LifoQueue()\n",
    "data_lifo.put(\"First\")\n",
    "data_lifo.put(\"Second\")"
   ],
   "metadata": {
    "collapsed": false
   }
  },
  {
   "cell_type": "code",
   "execution_count": 5,
   "outputs": [
    {
     "data": {
      "text/plain": "'Second'"
     },
     "execution_count": 5,
     "metadata": {},
     "output_type": "execute_result"
    }
   ],
   "source": [
    "data_lifo.get()"
   ],
   "metadata": {
    "collapsed": false
   }
  },
  {
   "cell_type": "code",
   "execution_count": 6,
   "outputs": [
    {
     "data": {
      "text/plain": "'First'"
     },
     "execution_count": 6,
     "metadata": {},
     "output_type": "execute_result"
    }
   ],
   "source": [
    "data_lifo.get()"
   ],
   "metadata": {
    "collapsed": false
   }
  },
  {
   "cell_type": "markdown",
   "source": [
    "### PriorityQueue()로 우선순위를 넣은 큐 만들기"
   ],
   "metadata": {
    "collapsed": false
   }
  },
  {
   "cell_type": "code",
   "execution_count": 7,
   "outputs": [],
   "source": [
    "import queue\n",
    "\n",
    "data_priority_queue = queue.PriorityQueue()\n",
    "data_priority_queue.put((10, \"normal\")) # tuple 자료형 (우선순위, 데이타) 형식으로 넣는다.\n",
    "data_priority_queue.put((5, \"very very important\")) # 우선순위의 숫자가 낮을 수록 우선순위가 높음\n",
    "data_priority_queue.put((15, \"very important\"))"
   ],
   "metadata": {
    "collapsed": false
   }
  },
  {
   "cell_type": "code",
   "execution_count": 8,
   "outputs": [
    {
     "data": {
      "text/plain": "(5, 'very very important')"
     },
     "execution_count": 8,
     "metadata": {},
     "output_type": "execute_result"
    }
   ],
   "source": [
    "data_priority_queue.get()"
   ],
   "metadata": {
    "collapsed": false
   }
  },
  {
   "cell_type": "code",
   "execution_count": 9,
   "outputs": [
    {
     "data": {
      "text/plain": "(10, 'normal')"
     },
     "execution_count": 9,
     "metadata": {},
     "output_type": "execute_result"
    }
   ],
   "source": [
    "data_priority_queue.get()"
   ],
   "metadata": {
    "collapsed": false
   }
  },
  {
   "cell_type": "markdown",
   "source": [
    "### <추가 궁그미> 컴퓨터에서 큐가 어디에서 쓰이나?\n",
    "OS에서 멀티 태스킹을 위한 프로세스 스케줄링 방식을 구현하기 위해 많이 사용됨.\n",
    "> 큐를 활용한 프로세스 스케줄링 방식을 함께 이해해두는 것이 좋습니다."
   ],
   "metadata": {
    "collapsed": false
   }
  },
  {
   "cell_type": "markdown",
   "source": [
    "### <실습> 직접 해보기\n",
    "List를 활용해, Enqueue, Dequeue 기능 구현해보기"
   ],
   "metadata": {
    "collapsed": false
   }
  },
  {
   "cell_type": "code",
   "execution_count": null,
   "outputs": [],
   "source": [],
   "metadata": {
    "collapsed": false
   }
  }
 ],
 "metadata": {
  "kernelspec": {
   "display_name": "Python 3",
   "language": "python",
   "name": "python3"
  },
  "language_info": {
   "codemirror_mode": {
    "name": "ipython",
    "version": 2
   },
   "file_extension": ".py",
   "mimetype": "text/x-python",
   "name": "python",
   "nbconvert_exporter": "python",
   "pygments_lexer": "ipython2",
   "version": "2.7.6"
  }
 },
 "nbformat": 4,
 "nbformat_minor": 0
}
