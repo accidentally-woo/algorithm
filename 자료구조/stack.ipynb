{
 "cells": [
  {
   "cell_type": "markdown",
   "source": [
    "## Stack\n",
    "- \"쌓는다\"의 의미. 접시 쌓아두고 밑장 빼기 금지.\n",
    "- 가장 나중에 넣은 데이터를 가장 먼저 빼낼 수 있는 구조\n",
    "    - 큐 : FIFO\n",
    "    - 스택 : LIFO\n",
    "\n",
    "### 1. 스택 구조\n",
    "- LIFO(Last-In, First-Out) or FILO(First-In, Last-Out) 라고 표현\n",
    "![nn](https://www.fun-coding.org/00_Images/stack.png)\n",
    "\n",
    "### 2. 알아들 용어\n",
    "- push : 스택에 데이터를 넣는다.\n",
    "- pop : 스택에 데이터를 꺼낸다.\n",
    "\n",
    "### <추가 궁그미> 컴퓨터에서 스택을 어디서에 쓰나?\n",
    "컴퓨터 내부의 프로그램을 실행할 떄, 프로세스 생성! 프로세스에서 함수/메소드의 동작 방식에서 사용됨.\n",
    "> 스택 구조는 프로세스 실행 구조의 가장 기본. 함수 호출 시 프로세스 실행 구조와 스택과 비교하면서 이해 필요"
   ],
   "metadata": {
    "collapsed": false
   }
  },
  {
   "cell_type": "code",
   "execution_count": 2,
   "outputs": [],
   "source": [
    "def recursive(data):\n",
    "    if data < 0:\n",
    "        print(\"ended\")\n",
    "    else:\n",
    "        print(data)\n",
    "        recursive(data - 1)\n",
    "        print(\"returned\", data)"
   ],
   "metadata": {
    "collapsed": false
   }
  },
  {
   "cell_type": "code",
   "execution_count": 3,
   "outputs": [
    {
     "name": "stdout",
     "output_type": "stream",
     "text": [
      "3\n",
      "2\n",
      "1\n",
      "0\n",
      "ended\n",
      "returned 0\n",
      "returned 1\n",
      "returned 2\n",
      "returned 3\n"
     ]
    }
   ],
   "source": [
    "recursive(3)"
   ],
   "metadata": {
    "collapsed": false
   }
  },
  {
   "cell_type": "markdown",
   "source": [
    "함수의 흐름과 스택구조를 이해해보기\n",
    "\n",
    "### 3. 스택의 장단점\n",
    "- 장점\n",
    "    - 구조가 단순해서, 구현이 쉽다.\n",
    "    - 데이터 저장/읽기 속도가 빠르다.\n",
    "- 단점(일반적인 스택 구현 시)\n",
    "    - 스택 데이터 최대 갯수를 미리 정해야 한다.\n",
    "        -  파이썬의 경우 재귀 함수는 1000번까지만 호출(maximum recursion depth)이 가능함.\n",
    "    - 저장 공간의 낭비가 발생할 수 있음\n",
    "        -   미리 최대 갯수만큼 저장 공간을 확보해야 함.\n",
    "\n",
    "### 4. 파이썬 리스트 기능에서 제공하는 메서드로 스택 사용해보기\n",
    "- list에서 append(push), pop 메서드로 구현가능"
   ],
   "metadata": {
    "collapsed": false
   }
  },
  {
   "cell_type": "code",
   "execution_count": 4,
   "outputs": [],
   "source": [
    "data_stack = list()\n",
    "\n",
    "data_stack.append(\"First\")\n",
    "data_stack.append(\"Second\")\n",
    "data_stack.append(\"Third\")"
   ],
   "metadata": {
    "collapsed": false
   }
  },
  {
   "cell_type": "code",
   "execution_count": 5,
   "outputs": [
    {
     "data": {
      "text/plain": "['First', 'Second', 'Third']"
     },
     "execution_count": 5,
     "metadata": {},
     "output_type": "execute_result"
    }
   ],
   "source": [
    "data_stack"
   ],
   "metadata": {
    "collapsed": false
   }
  },
  {
   "cell_type": "code",
   "execution_count": 6,
   "outputs": [
    {
     "data": {
      "text/plain": "'Third'"
     },
     "execution_count": 6,
     "metadata": {},
     "output_type": "execute_result"
    }
   ],
   "source": [
    "data_stack.pop()"
   ],
   "metadata": {
    "collapsed": false
   }
  },
  {
   "cell_type": "code",
   "execution_count": 7,
   "outputs": [
    {
     "data": {
      "text/plain": "'Second'"
     },
     "execution_count": 7,
     "metadata": {},
     "output_type": "execute_result"
    }
   ],
   "source": [
    "data_stack.pop()"
   ],
   "metadata": {
    "collapsed": false
   }
  },
  {
   "cell_type": "code",
   "execution_count": 10,
   "outputs": [],
   "source": [
    "# list를 활용해 push, pop 직접 구현해보기\n",
    "stack_list = list()\n",
    "\n",
    "\n",
    "def push(data):\n",
    "    stack_list.append(data)\n",
    "\n",
    "\n",
    "def pop():\n",
    "    data = stack_list[-1]\n",
    "    del stack_list[-1]\n",
    "    return data"
   ],
   "metadata": {
    "collapsed": false
   }
  },
  {
   "cell_type": "code",
   "execution_count": 11,
   "outputs": [],
   "source": [
    "for index in range(10):\n",
    "    push(index)"
   ],
   "metadata": {
    "collapsed": false
   }
  },
  {
   "cell_type": "code",
   "execution_count": 12,
   "outputs": [
    {
     "data": {
      "text/plain": "[0, 1, 2, 3, 4, 5, 6, 7, 8, 9]"
     },
     "execution_count": 12,
     "metadata": {},
     "output_type": "execute_result"
    }
   ],
   "source": [
    "stack_list"
   ],
   "metadata": {
    "collapsed": false
   }
  },
  {
   "cell_type": "code",
   "execution_count": 13,
   "outputs": [
    {
     "data": {
      "text/plain": "9"
     },
     "execution_count": 13,
     "metadata": {},
     "output_type": "execute_result"
    }
   ],
   "source": [
    "pop()"
   ],
   "metadata": {
    "collapsed": false
   }
  },
  {
   "cell_type": "code",
   "execution_count": 14,
   "outputs": [
    {
     "data": {
      "text/plain": "[0, 1, 2, 3, 4, 5, 6, 7, 8]"
     },
     "execution_count": 14,
     "metadata": {},
     "output_type": "execute_result"
    }
   ],
   "source": [
    "stack_list"
   ],
   "metadata": {
    "collapsed": false
   }
  }
 ],
 "metadata": {
  "kernelspec": {
   "display_name": "Python 3",
   "language": "python",
   "name": "python3"
  },
  "language_info": {
   "codemirror_mode": {
    "name": "ipython",
    "version": 2
   },
   "file_extension": ".py",
   "mimetype": "text/x-python",
   "name": "python",
   "nbconvert_exporter": "python",
   "pygments_lexer": "ipython2",
   "version": "2.7.6"
  }
 },
 "nbformat": 4,
 "nbformat_minor": 0
}
