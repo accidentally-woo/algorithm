{
 "cells": [
  {
   "cell_type": "markdown",
   "source": [
    "## 배열 Array\n",
    "\n",
    "- 데이터를 나열, 인덱스가 포함된 데이터 구조.\n",
    "- 파이썬에서는 list 타입이 배열 기능을 제공하고있다.\n",
    "\n",
    "### 1. 배열이 필요한 이유\n",
    "- 같은 종류의 데이터를 효율적으로 관리하기 위해 사용.\n",
    "- 같은 종류의 데이터를 순차적으로 저장.\n",
    "\n",
    "\n",
    "- 배열의 장점\n",
    "    - 인덱스를 통해 배열의 요소에 빠른 접근.\n",
    "\n",
    "\n",
    "- 배열의 단점\n",
    "    - 배열의 요소를 추가/삭제 시 최악의 경우 해당 요소를 제외한 모든 요소의 인덱스 값 변경되어야 함.\n",
    "    - 배열의 길이는 선언할 때 지정한다."
   ],
   "metadata": {
    "collapsed": false
   }
  },
  {
   "cell_type": "markdown",
   "source": [
    "### 2. 파이썬의 배열"
   ],
   "metadata": {
    "collapsed": false
   }
  },
  {
   "cell_type": "code",
   "execution_count": 1,
   "outputs": [
    {
     "name": "stdout",
     "output_type": "stream",
     "text": [
      "1\n"
     ]
    }
   ],
   "source": [
    "data = [1, 2, 3 , 4, 5]\n",
    "\n",
    "print(data[0])"
   ],
   "metadata": {
    "collapsed": false
   }
  },
  {
   "cell_type": "code",
   "execution_count": 2,
   "outputs": [],
   "source": [
    "dataset = [\n",
    "    'Don\\'t dwell on the pass',\n",
    "    'Believe in yourself',\n",
    "    'Follow your heart',\n",
    "    'Seize the day',\n",
    "    'Love yourself',\n",
    "    'Where there is a will there is a way'\n",
    "]"
   ],
   "metadata": {
    "collapsed": false
   }
  },
  {
   "cell_type": "markdown",
   "source": [
    "문제! 해당 데이터셋에서 l이 몇번 나오는지"
   ],
   "metadata": {
    "collapsed": false
   }
  }
 ],
 "metadata": {
  "kernelspec": {
   "display_name": "Python 3",
   "language": "python",
   "name": "python3"
  },
  "language_info": {
   "codemirror_mode": {
    "name": "ipython",
    "version": 2
   },
   "file_extension": ".py",
   "mimetype": "text/x-python",
   "name": "python",
   "nbconvert_exporter": "python",
   "pygments_lexer": "ipython2",
   "version": "2.7.6"
  }
 },
 "nbformat": 4,
 "nbformat_minor": 0
}
